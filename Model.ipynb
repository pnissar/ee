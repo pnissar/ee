{
 "cells": [
  {
   "cell_type": "code",
   "execution_count": null,
   "id": "58964297",
   "metadata": {},
   "outputs": [],
   "source": [
    "import numpy as np\n",
    "import pandas as pd\n",
    "df=pd.read_csv('BH.csv')\n",
    "df\n"
   ]
  },
  {
   "cell_type": "code",
   "execution_count": null,
   "id": "9d56d5c5",
   "metadata": {},
   "outputs": [],
   "source": [
    "df.isna().sum()"
   ]
  },
  {
   "cell_type": "code",
   "execution_count": null,
   "id": "77b62f32",
   "metadata": {},
   "outputs": [],
   "source": [
    "df.drop(columns=['area_type','availability','society','balcony'],inplace=True)"
   ]
  },
  {
   "cell_type": "code",
   "execution_count": null,
   "id": "8ce9a0d6",
   "metadata": {},
   "outputs": [],
   "source": [
    "df"
   ]
  },
  {
   "cell_type": "code",
   "execution_count": null,
   "id": "0e6af265",
   "metadata": {},
   "outputs": [],
   "source": [
    "df['location']=df['location'].fillna('Sarjapur Road')"
   ]
  },
  {
   "cell_type": "code",
   "execution_count": null,
   "id": "1d616a49",
   "metadata": {},
   "outputs": [],
   "source": [
    "df['size']=df['size'].fillna('2 BHK')"
   ]
  },
  {
   "cell_type": "code",
   "execution_count": null,
   "id": "7074f00a",
   "metadata": {},
   "outputs": [],
   "source": [
    "df['bath']=df['bath'].fillna(df['bath'].median())"
   ]
  },
  {
   "cell_type": "code",
   "execution_count": null,
   "id": "691f1734",
   "metadata": {},
   "outputs": [],
   "source": [
    "df.info()"
   ]
  },
  {
   "cell_type": "code",
   "execution_count": null,
   "id": "0adc47d5",
   "metadata": {},
   "outputs": [],
   "source": [
    "df['bhk']=df['size'].str.split().str.get(0).astype(int)\n",
    "df['bhk']"
   ]
  },
  {
   "cell_type": "code",
   "execution_count": null,
   "id": "d535e157",
   "metadata": {},
   "outputs": [],
   "source": [
    "def con(x):\n",
    "    temp=x.split('-')\n",
    "    if len(temp)==2:\n",
    "        return (float(temp[0])+float(temp[1]))/2\n",
    "    try: \n",
    "        return float(x)\n",
    "    except:\n",
    "        return None"
   ]
  },
  {
   "cell_type": "code",
   "execution_count": null,
   "id": "8b617f21",
   "metadata": {},
   "outputs": [],
   "source": [
    "df['total_sqft']=df['total_sqft'].apply(con)"
   ]
  },
  {
   "cell_type": "code",
   "execution_count": null,
   "id": "e771261e",
   "metadata": {},
   "outputs": [],
   "source": [
    "df['total_sqft']"
   ]
  },
  {
   "cell_type": "code",
   "execution_count": null,
   "id": "e26e2419",
   "metadata": {},
   "outputs": [],
   "source": [
    "df['price_s']=df['price']*100000/df['total_sqft']"
   ]
  },
  {
   "cell_type": "code",
   "execution_count": null,
   "id": "89b67033",
   "metadata": {},
   "outputs": [],
   "source": [
    "df['price_s']"
   ]
  },
  {
   "cell_type": "code",
   "execution_count": null,
   "id": "dd3d82c6",
   "metadata": {},
   "outputs": [],
   "source": [
    "df['location']=df['location'].apply(lambda x: x.strip())\n",
    "l_c=df['location'].value_counts()\n",
    "l_c"
   ]
  },
  {
   "cell_type": "code",
   "execution_count": null,
   "id": "35217a20",
   "metadata": {},
   "outputs": [],
   "source": [
    "l_c10=l_c[l_c<=10]\n",
    "l_c10"
   ]
  },
  {
   "cell_type": "code",
   "execution_count": null,
   "id": "0bcd6abb",
   "metadata": {},
   "outputs": [],
   "source": [
    "df['location']=df['location'].apply(lambda x:'other' if x in l_c10 else x)"
   ]
  },
  {
   "cell_type": "code",
   "execution_count": null,
   "id": "0126c07b",
   "metadata": {},
   "outputs": [],
   "source": [
    "df=df[((df['total_sqft']/df['bhk'])>=300)]"
   ]
  },
  {
   "cell_type": "code",
   "execution_count": null,
   "id": "5cf31e65",
   "metadata": {},
   "outputs": [],
   "source": [
    "df.describe()"
   ]
  },
  {
   "cell_type": "code",
   "execution_count": null,
   "id": "1f54133b",
   "metadata": {},
   "outputs": [],
   "source": [
    "def r_o(df):\n",
    "    d_o=pd.DataFrame()\n",
    "    for key,subdf in df.groupby('location'):\n",
    "        m=np.mean(subdf.price_s)\n",
    "        st=np.std(subdf.price_s)\n",
    "        gen_df=subdf[(subdf.price_s>(m-st)) & (subdf.price_s<=(m+st))]\n",
    "        d_o=pd.concat([d_o,gen_df],ignore_index=True)\n",
    "    return d_o\n",
    "data=r_o(df)\n",
    "data.describe()"
   ]
  },
  {
   "cell_type": "code",
   "execution_count": null,
   "id": "5975a88f",
   "metadata": {},
   "outputs": [],
   "source": [
    "def b_o(df):\n",
    "    e_i=np.array([])\n",
    "    for l,l_df in df.groupby('location'):\n",
    "        b_s={}\n",
    "        for bhk,bhk_df in l_df.groupby('bhk'):\n",
    "            b_s[bhk]={\n",
    "                'mean':np.mean(bhk_df.price_s),\n",
    "                'std':np.std(bhk_df.price_s),\n",
    "                'count':bhk_df.shape[0]\n",
    "            }\n",
    "        for bhk,bhk_df in l_df.groupby('bhk'):\n",
    "            stats=b_s.get(bhk-1)\n",
    "            if(stats and stats['count']>5):\n",
    "                e_i=np.append(e_i,bhk_df[bhk_df.price_s<(stats['mean'])].index.values)\n",
    "    return df.drop(e_i,axis='index')"
   ]
  },
  {
   "cell_type": "code",
   "execution_count": null,
   "id": "4390a87d",
   "metadata": {},
   "outputs": [],
   "source": [
    "data=b_o(data)\n"
   ]
  },
  {
   "cell_type": "code",
   "execution_count": null,
   "id": "b2b8adf8",
   "metadata": {},
   "outputs": [],
   "source": [
    "data"
   ]
  },
  {
   "cell_type": "code",
   "execution_count": null,
   "id": "850706d1",
   "metadata": {},
   "outputs": [],
   "source": [
    "data.drop(columns=['size','price_s'],inplace=True)"
   ]
  },
  {
   "cell_type": "code",
   "execution_count": null,
   "id": "5164b24d",
   "metadata": {},
   "outputs": [],
   "source": [
    "x=data.drop(columns=['price'])\n",
    "y=data['price']\n",
    "y"
   ]
  },
  {
   "cell_type": "code",
   "execution_count": null,
   "id": "844fa17a",
   "metadata": {},
   "outputs": [],
   "source": [
    "from sklearn.model_selection import train_test_split\n",
    "from sklearn.linear_model import LinearRegression,Lasso,Ridge\n",
    "from sklearn.preprocessing import OneHotEncoder,StandardScaler\n",
    "from sklearn.compose import make_column_transformer\n",
    "from sklearn.pipeline import make_pipeline\n",
    "from sklearn.metrics import r2_score"
   ]
  },
  {
   "cell_type": "code",
   "execution_count": null,
   "id": "95c47a2b",
   "metadata": {},
   "outputs": [],
   "source": [
    "x_t,x_te,y_t,y_te=train_test_split(x,y,test_size=0.2,random_state=0)\n",
    "data"
   ]
  },
  {
   "cell_type": "code",
   "execution_count": null,
   "id": "e9a024db",
   "metadata": {},
   "outputs": [],
   "source": [
    "c_t=make_column_transformer((OneHotEncoder(sparse_output=False),['location']),remainder='passthrough')"
   ]
  },
  {
   "cell_type": "code",
   "execution_count": null,
   "id": "619d2c8e",
   "metadata": {},
   "outputs": [],
   "source": [
    "scaler=StandardScaler()\n",
    "lr=LinearRegression()"
   ]
  },
  {
   "cell_type": "code",
   "execution_count": null,
   "id": "d4dc7d9d",
   "metadata": {},
   "outputs": [],
   "source": [
    "pipe=make_pipeline(c_t,scaler,lr)"
   ]
  },
  {
   "cell_type": "code",
   "execution_count": null,
   "id": "f99f8bf1",
   "metadata": {},
   "outputs": [],
   "source": [
    "pipe.fit(x_t,y_t)"
   ]
  },
  {
   "cell_type": "code",
   "execution_count": null,
   "id": "acef9fc0",
   "metadata": {},
   "outputs": [],
   "source": [
    "y_p_lr=pipe.predict(x_te)"
   ]
  },
  {
   "cell_type": "code",
   "execution_count": null,
   "id": "a12c2294",
   "metadata": {},
   "outputs": [],
   "source": [
    "r2_score(y_te,y_p_lr)"
   ]
  },
  {
   "cell_type": "code",
   "execution_count": null,
   "id": "f90c7621",
   "metadata": {},
   "outputs": [],
   "source": [
    "la=Lasso()\n",
    "pipe=make_pipeline(c_t,scaler,la)\n",
    "pipe.fit(x_t,y_t)\n"
   ]
  },
  {
   "cell_type": "code",
   "execution_count": null,
   "id": "0890290e",
   "metadata": {},
   "outputs": [],
   "source": [
    "y_p_la=pipe.predict(x_te)"
   ]
  },
  {
   "cell_type": "code",
   "execution_count": null,
   "id": "00d0cafa",
   "metadata": {},
   "outputs": [],
   "source": [
    "r2_score(y_te,y_p_la)"
   ]
  },
  {
   "cell_type": "code",
   "execution_count": null,
   "id": "06ffc6a4",
   "metadata": {},
   "outputs": [],
   "source": [
    "ri=Ridge()\n",
    "pipe=make_pipeline(c_t,scaler,ri)\n",
    "pipe.fit(x_t,y_t)\n"
   ]
  },
  {
   "cell_type": "code",
   "execution_count": null,
   "id": "7ecf5d47",
   "metadata": {},
   "outputs": [],
   "source": [
    "\n",
    "y_p_ri=pipe.predict(x_te)\n"
   ]
  },
  {
   "cell_type": "code",
   "execution_count": null,
   "id": "97e71d1f",
   "metadata": {},
   "outputs": [],
   "source": [
    "r2_score(y_te,y_p_ri)"
   ]
  },
  {
   "cell_type": "code",
   "execution_count": null,
   "id": "57ccd95e",
   "metadata": {},
   "outputs": [],
   "source": [
    "import pickle\n",
    "pickle.dump(pipe,open('ri.pkl','wb'))"
   ]
  },
  {
   "cell_type": "code",
   "execution_count": null,
   "id": "5bcc5d5b",
   "metadata": {},
   "outputs": [],
   "source": [
    "data\n",
    "data.describe()\n",
    "data"
   ]
  },
  {
   "cell_type": "code",
   "execution_count": null,
   "id": "9a15f1f2",
   "metadata": {},
   "outputs": [],
   "source": [
    "data.to_csv('c.csv')"
   ]
  },
  {
   "cell_type": "code",
   "execution_count": null,
   "id": "983ff9d1",
   "metadata": {},
   "outputs": [],
   "source": []
  }
 ],
 "metadata": {
  "kernelspec": {
   "display_name": "Python 3 (ipykernel)",
   "language": "python",
   "name": "python3"
  },
  "language_info": {
   "codemirror_mode": {
    "name": "ipython",
    "version": 3
   },
   "file_extension": ".py",
   "mimetype": "text/x-python",
   "name": "python",
   "nbconvert_exporter": "python",
   "pygments_lexer": "ipython3",
   "version": "3.12.1"
  }
 },
 "nbformat": 4,
 "nbformat_minor": 5
}
